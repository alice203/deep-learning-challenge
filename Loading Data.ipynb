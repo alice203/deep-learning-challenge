{
 "cells": [
  {
   "cell_type": "code",
   "execution_count": 2,
   "metadata": {},
   "outputs": [],
   "source": [
    "from __future__ import division\n",
    "import numpy as np\n",
    "import sys\n",
    "import zipfile\n",
    "import logging\n",
    "import imageio\n",
    "import glob\n",
    "import matplotlib.pyplot as plt\n",
    "%matplotlib inline"
   ]
  },
  {
   "cell_type": "markdown",
   "metadata": {},
   "source": [
    "Loading png"
   ]
  },
  {
   "cell_type": "code",
   "execution_count": 2,
   "metadata": {},
   "outputs": [],
   "source": [
    "png = []\n",
    "\n",
    "for im_path in glob.glob(\"/Users/aliciahorsch/Anaconda/DL challenge/train/png/*.png\"):\n",
    "    im = imageio.imread(im_path)\n",
    "    png.append(im)"
   ]
  },
  {
   "cell_type": "code",
   "execution_count": 3,
   "metadata": {},
   "outputs": [
    {
     "data": {
      "text/plain": [
       "<matplotlib.image.AxesImage at 0x11e2c8160>"
      ]
     },
     "execution_count": 3,
     "metadata": {},
     "output_type": "execute_result"
    },
    {
     "data": {
      "image/png": "[encoded data removed]",
      "text/plain": [
       "<Figure size 432x288 with 1 Axes>"
      ]
     },
     "metadata": {
      "needs_background": "light"
     },
     "output_type": "display_data"
    }
   ],
   "source": [
    "plt.imshow(png[0])\n",
    "\n",
    "#4th channel is transparency, 1-3 is RGB"
   ]
  },
  {
   "cell_type": "code",
   "execution_count": 5,
   "metadata": {},
   "outputs": [
    {
     "name": "stdout",
     "output_type": "stream",
     "text": [
      "(48000, 64, 64, 4)\n"
     ]
    }
   ],
   "source": [
    "png=np.array(png)\n",
    "print(png.shape)"
   ]
  },
  {
   "cell_type": "code",
   "execution_count": 7,
   "metadata": {},
   "outputs": [],
   "source": [
    "np.save(\"png.npy\", png)"
   ]
  },
  {
   "cell_type": "code",
   "execution_count": 8,
   "metadata": {},
   "outputs": [
    {
     "name": "stdout",
     "output_type": "stream",
     "text": [
      "(48000, 64, 64, 4)\n"
     ]
    }
   ],
   "source": [
    "print(png.shape)"
   ]
  },
  {
   "cell_type": "code",
   "execution_count": 9,
   "metadata": {},
   "outputs": [],
   "source": [
    "X = np.load(\"png.npy\")"
   ]
  },
  {
   "cell_type": "code",
   "execution_count": 12,
   "metadata": {},
   "outputs": [
    {
     "name": "stdout",
     "output_type": "stream",
     "text": [
      "(48000, 64, 64, 4)\n"
     ]
    }
   ],
   "source": [
    "print(X.shape)"
   ]
  },
  {
   "cell_type": "markdown",
   "metadata": {},
   "source": [
    "Load svg file"
   ]
  },
  {
   "cell_type": "code",
   "execution_count": 14,
   "metadata": {},
   "outputs": [],
   "source": [
    "def load(path, zipped=True):\n",
    "    js = range(48000)\n",
    "    strings = []\n",
    "    if zipped:\n",
    "        with zipfile.ZipFile(path) as z:\n",
    "            for j in js:\n",
    "                strings.append(z.open(\"{}.svg\".format(j)).read())\n",
    "    else:\n",
    "        for j in js:\n",
    "                strings.append(open(\"{}/{}.svg\".format(path, j)).read())\n",
    "                \n",
    "    return strings"
   ]
  },
  {
   "cell_type": "code",
   "execution_count": 15,
   "metadata": {},
   "outputs": [],
   "source": [
    "svg = load(\"/Users/aliciahorsch/Anaconda/DL Challenge/train/svg/\", zipped = False)"
   ]
  },
  {
   "cell_type": "markdown",
   "metadata": {},
   "source": [
    "Process svg to array"
   ]
  },
  {
   "cell_type": "code",
   "execution_count": 16,
   "metadata": {},
   "outputs": [
    {
     "name": "stdout",
     "output_type": "stream",
     "text": [
      "['<?xml', 'version=\"1.0\"', 'encoding=\"utf-8\"', '?>\\n<svg', 'baseProfile=\"full\"', 'height=\"64\"', 'version=\"1.1\"', 'width=\"64\"', 'xmlns=\"http://www.w3.org/2000/svg\"', 'xmlns:ev=\"http://www.w3.org/2001/xml-events\"', 'xmlns:xlink=\"http://www.w3.org/1999/xlink\"><defs', '/><ellipse', 'cx=\"8.0\"', 'cy=\"56.0\"', 'fill=\"olive\"', 'rx=\"16.0\"', 'ry=\"8.0\"', '/><ellipse', 'cx=\"32.0\"', 'cy=\"56.0\"', 'fill=\"fuchsia\"', 'rx=\"16.0\"', 'ry=\"16.0\"', '/></svg>']\n"
     ]
    }
   ],
   "source": [
    "from nltk.tokenize import SpaceTokenizer\n",
    "\n",
    "tk = SpaceTokenizer()\n",
    "\n",
    "test = tk.tokenize(svg[677])\n",
    "print(test)"
   ]
  },
  {
   "cell_type": "code",
   "execution_count": 17,
   "metadata": {},
   "outputs": [
    {
     "name": "stdout",
     "output_type": "stream",
     "text": [
      "48000\n",
      "[['<?xml', 'version=\"1.0\"', 'encoding=\"utf-8\"', '?>\\n<svg', 'baseProfile=\"full\"', 'height=\"64\"', 'version=\"1.1\"', 'width=\"64\"', 'xmlns=\"http://www.w3.org/2000/svg\"', 'xmlns:ev=\"http://www.w3.org/2001/xml-events\"', 'xmlns:xlink=\"http://www.w3.org/1999/xlink\"><defs', '/><ellipse', 'cx=\"32.0\"', 'cy=\"8.0\"', 'fill=\"silver\"', 'rx=\"16.0\"', 'ry=\"16.0\"', '/><ellipse', 'cx=\"32.0\"', 'cy=\"56.0\"', 'fill=\"green\"', 'rx=\"32.0\"', 'ry=\"16.0\"', '/><ellipse', 'cx=\"8.0\"', 'cy=\"8.0\"', 'fill=\"green\"', 'rx=\"16.0\"', 'ry=\"32.0\"', '/></svg>']]\n"
     ]
    }
   ],
   "source": [
    "tokens = []\n",
    "for sequence in svg:\n",
    "    l = tk.tokenize(sequence)\n",
    "    tokens.append(l)\n",
    "\n",
    "print(len(tokens))\n",
    "print(tokens[:1])"
   ]
  },
  {
   "cell_type": "code",
   "execution_count": 18,
   "metadata": {},
   "outputs": [
    {
     "name": "stdout",
     "output_type": "stream",
     "text": [
      "66\n"
     ]
    }
   ],
   "source": [
    "maxi = 0\n",
    "for file in tokens:\n",
    "    length = len(file)\n",
    "    if length > maxi:\n",
    "        maxi = length\n",
    "    else:\n",
    "        continue\n",
    "print(maxi)"
   ]
  },
  {
   "cell_type": "code",
   "execution_count": 19,
   "metadata": {},
   "outputs": [
    {
     "name": "stdout",
     "output_type": "stream",
     "text": [
      "{'<?xml': 1, 'version=\"1.0\"': 2, 'encoding=\"utf-8\"': 3, '?>\\n<svg': 4, 'baseProfile=\"full\"': 5, 'height=\"64\"': 6, 'version=\"1.1\"': 7, 'width=\"64\"': 8, 'xmlns=\"http://www.w3.org/2000/svg\"': 9, 'xmlns:ev=\"http://www.w3.org/2001/xml-events\"': 10, 'xmlns:xlink=\"http://www.w3.org/1999/xlink\"><defs': 11, '/><ellipse': 12, 'cx=\"32.0\"': 13, 'cy=\"8.0\"': 14, 'fill=\"silver\"': 15, 'rx=\"16.0\"': 16, 'ry=\"16.0\"': 17, 'cy=\"56.0\"': 18, 'fill=\"green\"': 19, 'rx=\"32.0\"': 20, 'cx=\"8.0\"': 21, 'ry=\"32.0\"': 22, '/></svg>': 23, 'fill=\"maroon\"': 24, 'ry=\"8.0\"': 25, 'cy=\"32.0\"': 26, 'fill=\"cyan\"': 27, 'rx=\"8.0\"': 28, '/><rect': 29, 'fill=\"olive\"': 30, 'height=\"16.0\"': 31, 'width=\"16.0\"': 32, 'x=\"32.0\"': 33, 'y=\"56.0\"': 34, 'fill=\"navy\"': 35, 'fill=\"purple\"': 36, 'height=\"32.0\"': 37, 'width=\"32.0\"': 38, 'x=\"8.0\"': 39, 'y=\"32.0\"': 40, 'fill=\"red\"': 41, 'x=\"56.0\"': 42, 'cx=\"56.0\"': 43, 'fill=\"lime\"': 44, 'fill=\"teal\"': 45, 'y=\"8.0\"': 46, 'width=\"8.0\"': 47, 'height=\"8.0\"': 48, 'fill=\"white\"': 49, 'fill=\"magenta\"': 50, 'fill=\"aqua\"': 51, 'fill=\"black\"': 52, 'fill=\"fuchsia\"': 53, 'fill=\"yellow\"': 54, 'fill=\"gray\"': 55, 'fill=\"blue\"': 56}\n",
      "56\n"
     ]
    }
   ],
   "source": [
    "dic = {}\n",
    "counter = 1\n",
    "\n",
    "for tokenlist in tokens:\n",
    "    for token in tokenlist:\n",
    "        if token in dic:\n",
    "            continue\n",
    "        else:\n",
    "            dic[token] = counter\n",
    "            counter +=1\n",
    "            \n",
    "print(dic)\n",
    "print(len(dic))"
   ]
  },
  {
   "cell_type": "code",
   "execution_count": 20,
   "metadata": {},
   "outputs": [
    {
     "name": "stdout",
     "output_type": "stream",
     "text": [
      "(48000, 66, 56)\n",
      "(66, 56)\n"
     ]
    }
   ],
   "source": [
    "r = np.zeros((len(tokens),maxi,len(dic)))\n",
    "print(r.shape)\n",
    "l = np.zeros((maxi,len(dic)))\n",
    "print(l.shape)"
   ]
  },
  {
   "cell_type": "code",
   "execution_count": 21,
   "metadata": {},
   "outputs": [],
   "source": [
    "z = []\n",
    "aux =[]\n",
    "\n",
    "for tokenlist in tokens:\n",
    "    \n",
    "    for token in tokenlist:\n",
    "        aux.append(dic[token])\n",
    "    \n",
    "    while len(aux) < 66:\n",
    "        aux.append(0)\n",
    "    n = np.array(aux)\n",
    "    \n",
    "    z.append(aux)\n",
    "    aux = []\n"
   ]
  },
  {
   "cell_type": "code",
   "execution_count": 22,
   "metadata": {},
   "outputs": [
    {
     "name": "stdout",
     "output_type": "stream",
     "text": [
      "48000\n",
      "[1, 2, 3, 4, 5, 6, 7, 8, 9, 10, 11, 12, 13, 14, 15, 16, 17, 12, 13, 18, 19, 20, 17, 12, 21, 14, 19, 16, 22, 23, 0, 0, 0, 0, 0, 0, 0, 0, 0, 0, 0, 0, 0, 0, 0, 0, 0, 0, 0, 0, 0, 0, 0, 0, 0, 0, 0, 0, 0, 0, 0, 0, 0, 0, 0, 0]\n"
     ]
    }
   ],
   "source": [
    "print(len(z))\n",
    "print(z[0])"
   ]
  },
  {
   "cell_type": "code",
   "execution_count": 33,
   "metadata": {},
   "outputs": [
    {
     "name": "stdout",
     "output_type": "stream",
     "text": [
      "(66, 57)\n"
     ]
    }
   ],
   "source": [
    "a = []\n",
    "\n",
    "print(l.shape)\n",
    "for item in z:\n",
    "    #print(item)\n",
    "    l = np.zeros((maxi,57))\n",
    "    for index,value in enumerate(item):\n",
    "        l[index,value] = 1\n",
    "        \n",
    "    a.append(l)\n",
    "\n",
    "        "
   ]
  },
  {
   "cell_type": "code",
   "execution_count": 34,
   "metadata": {},
   "outputs": [
    {
     "name": "stdout",
     "output_type": "stream",
     "text": [
      "(48000, 66, 57)\n"
     ]
    }
   ],
   "source": [
    "f = np.array(a)\n",
    "print(f.shape)"
   ]
  },
  {
   "cell_type": "code",
   "execution_count": 35,
   "metadata": {},
   "outputs": [],
   "source": [
    "np.save(\"svg.npy\", f)"
   ]
  },
  {
   "cell_type": "code",
   "execution_count": 36,
   "metadata": {},
   "outputs": [],
   "source": [
    "y = np.load(\"svg.npy\")"
   ]
  },
  {
   "cell_type": "code",
   "execution_count": 37,
   "metadata": {},
   "outputs": [
    {
     "name": "stdout",
     "output_type": "stream",
     "text": [
      "(48000, 66, 57)\n"
     ]
    }
   ],
   "source": [
    "print(y.shape)"
   ]
  },
  {
   "cell_type": "code",
   "execution_count": 40,
   "metadata": {},
   "outputs": [
    {
     "name": "stdout",
     "output_type": "stream",
     "text": [
      "[0. 0. 0. 0. 0. 0. 0. 0. 0. 0. 0. 0. 0. 1. 0. 0. 0. 0. 0. 0. 0. 0. 0. 0.\n",
      " 0. 0. 0. 0. 0. 0. 0. 0. 0. 0. 0. 0. 0. 0. 0. 0. 0. 0. 0. 0. 0. 0. 0. 0.\n",
      " 0. 0. 0. 0. 0. 0. 0. 0. 0.]\n"
     ]
    }
   ],
   "source": [
    "print(y[0][18])"
   ]
  }
 ],
 "metadata": {
  "kernelspec": {
   "display_name": "Python 3",
   "language": "python",
   "name": "python3"
  },
  "language_info": {
   "codemirror_mode": {
    "name": "ipython",
    "version": 3
   },
   "file_extension": ".py",
   "mimetype": "text/x-python",
   "name": "python",
   "nbconvert_exporter": "python",
   "pygments_lexer": "ipython3",
   "version": "3.7.3"
  }
 },
 "nbformat": 4,
 "nbformat_minor": 2
}
